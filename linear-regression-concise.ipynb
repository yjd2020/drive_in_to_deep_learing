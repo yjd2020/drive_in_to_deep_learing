{
 "cells": [
  {
   "cell_type": "markdown",
   "id": "a3b6e01f",
   "metadata": {},
   "source": [
    "生成数据集"
   ]
  },
  {
   "cell_type": "code",
   "execution_count": 21,
   "id": "10e76078",
   "metadata": {},
   "outputs": [],
   "source": [
    "import numpy as np\n",
    "import torch\n",
    "from torch.utils import data\n",
    "from d2l import torch as d2l"
   ]
  },
  {
   "cell_type": "code",
   "execution_count": 22,
   "id": "bea2701d",
   "metadata": {},
   "outputs": [],
   "source": [
    "true_w = torch.tensor([2, -3.4])\n",
    "true_b = 4.2\n",
    "features, labels = d2l.synthetic_data(true_w, true_b, 1000)\n",
    "'''\n",
    "根据真实的w，和b生成人造数据集\n",
    "features这里是指X（各种影响结果y的特征），labels是指结果Y，1000是样本数量。\n",
    "synthetic_data是一个d2l中的人造数据的函数。\n",
    "'''"
   ]
  },
  {
   "cell_type": "markdown",
   "id": "1d5a4244",
   "metadata": {},
   "source": [
    "读取数据集\n",
    "\n",
    "构造一个数据迭代器，每次读取指定数量个小批量随机样本。\n",
    "通过DataLoader(指定数据集中的一部分数据)指定batch_size（数据大小）。 此外，布尔值is_train表示是否希望数据迭代器对象在每个迭代周期内打乱数据。\n"
   ]
  },
  {
   "cell_type": "code",
   "execution_count": 23,
   "id": "13843178",
   "metadata": {},
   "outputs": [],
   "source": [
    "def load_array(data_arrays, batch_size, is_train=True):  \n",
    "    \"\"\"构造一个PyTorch数据迭代器\"\"\"\n",
    "    dataset = data.TensorDataset(*data_arrays)\n",
    "    return data.DataLoader(dataset, batch_size, shuffle=is_train)"
   ]
  },
  {
   "cell_type": "code",
   "execution_count": 37,
   "id": "75140680",
   "metadata": {},
   "outputs": [
    {
     "data": {
      "text/plain": [
       "'这里我们使用iter构造Python迭代器，并使用next从迭代器中获取第一项'"
      ]
     },
     "execution_count": 37,
     "metadata": {},
     "output_type": "execute_result"
    }
   ],
   "source": [
    "batch_size = 10\n",
    "data_iter = load_array((features, labels), batch_size)\n",
    "\"\"\"这里我们使用iter构造Python迭代器，并使用next从迭代器中获取第一项\"\"\""
   ]
  },
  {
   "cell_type": "code",
   "execution_count": 39,
   "id": "e9112e8f",
   "metadata": {},
   "outputs": [
    {
     "data": {
      "text/plain": [
       "[tensor([[-0.8618, -0.3128],\n",
       "         [ 0.5181,  0.5058],\n",
       "         [-0.6576, -0.2590],\n",
       "         [-0.9924,  0.4049],\n",
       "         [ 1.3200, -0.2415],\n",
       "         [ 0.5535, -0.6537],\n",
       "         [-0.2792, -0.3875],\n",
       "         [ 1.1205,  0.6257],\n",
       "         [ 1.2821, -0.8802],\n",
       "         [-1.0154,  0.0015]]),\n",
       " tensor([[3.5442],\n",
       "         [3.5216],\n",
       "         [3.7693],\n",
       "         [0.8360],\n",
       "         [7.6516],\n",
       "         [7.5316],\n",
       "         [4.9735],\n",
       "         [4.3209],\n",
       "         [9.7550],\n",
       "         [2.1518]])]"
      ]
     },
     "execution_count": 39,
     "metadata": {},
     "output_type": "execute_result"
    }
   ],
   "source": [
    "next(iter(data_iter))"
   ]
  },
  {
   "cell_type": "markdown",
   "id": "1311ec7f",
   "metadata": {},
   "source": [
    "定义模型\n",
    "\n",
    "对于标准深度学习模型，我们可以[使用框架的预定义好的层]。这使我们只需关注使用哪些层来构造模型，而不必关注层的实现细节。 \n",
    "我们首先定义一个模型变量net，它是一个Sequential类的实例。 Sequential类将多个层串联在一起。 当给定输入数据时，Sequential实例将数据传入到第一层， 然后将第一层的输出作为第二层的输入，以此类推。 \n",
    "在下面的例子中，我们的模型只包含一个层，因此实际上不需要Sequential。 但是由于以后几乎所有的模型都是多层的，在这里使用Sequential会让你熟悉“标准的流水线”。\n",
    "回顾 :对于单层网络架构,这一单层被称为全连接层（fully-connected layer）， 因为它的每一个输入都通过矩阵-向量乘法得到它的每个输出。\n",
    "在PyTorch中，全连接层在Linear类中定义。 值得注意的是，我们将两个参数传递到nn.Linear中。 第一个指定输入特征形状，即2，第二个指定输出特征形状，输出特征形状为单个标量，因此为1。"
   ]
  },
  {
   "cell_type": "code",
   "execution_count": 26,
   "id": "d7073ba0",
   "metadata": {},
   "outputs": [],
   "source": [
    "# nn是神经网络的缩写\n",
    "from torch import nn\n",
    "\n",
    "net = nn.Sequential(nn.Linear(2, 1))"
   ]
  },
  {
   "cell_type": "markdown",
   "id": "ce4c294e",
   "metadata": {},
   "source": [
    "(初始化模型参数)\n",
    "\n",
    "在使用net之前，我们需要初始化模型参数。 如在线性回归模型中的权重和偏置。 深度学习框架通常有预定义的方法来初始化参数。 在这里，我们指定每个权重参数应该从均值为0、标准差为0.01的正态分布中随机采样， 偏置参数将初始化为零。\n",
    "\n",
    "正如我们在构造nn.Linear时指定输入和输出尺寸一样， 现在我们能直接访问参数以设定它们的初始值。 我们通过net[0]选择网络中的第一个图层， 然后使用weight.data和bias.data方法访问参数。 我们还可以使用替换方法normal_和fill_来重写参数值。\n"
   ]
  },
  {
   "cell_type": "code",
   "execution_count": null,
   "id": "2283201d",
   "metadata": {},
   "outputs": [],
   "source": [
    "net[0].weight.data.normal_(0, 0.01)\n",
    "net[0].bias.data.fill_(0)"
   ]
  },
  {
   "cell_type": "markdown",
   "id": "9fecfa74",
   "metadata": {},
   "source": [
    "定义损失函数\n",
    "\n",
    "[计算均方误差使用的是MSELoss类，也称为平方𝐿2范数]。 默认情况下，它返回所有样本损失的平均值。"
   ]
  },
  {
   "cell_type": "code",
   "execution_count": 27,
   "id": "2dd98b20",
   "metadata": {},
   "outputs": [],
   "source": [
    "loss = nn.MSELoss()"
   ]
  },
  {
   "cell_type": "markdown",
   "id": "957f0303",
   "metadata": {},
   "source": [
    "定义优化算法\n",
    "\n",
    "小批量随机梯度下降算法是一种优化神经网络的标准工具， PyTorch在optim模块中实现了该算法的许多变种。 当我们(实例化一个SGD实例)时，我们要指定优化的参数 （可通过net.parameters()从我们的模型中获得）以及优化算法所需的超参数字典。 小批量随机梯度下降只需要设置lr值（学习率），这里设置为0.03。\n"
   ]
  },
  {
   "cell_type": "code",
   "execution_count": 28,
   "id": "c3bdc3ef",
   "metadata": {},
   "outputs": [],
   "source": [
    "trainer = torch.optim.SGD(net.parameters(), lr=0.03)"
   ]
  },
  {
   "cell_type": "markdown",
   "id": "b045773c",
   "metadata": {},
   "source": [
    "训练\n",
    "\n",
    "使用高级API我们不必单独分配参数、不必定义我们的损失函数，也不必手动实现小批量随机梯度下降。 当我们需要更复杂的模型时，高级API的优势将大大增加。\n",
    "\n",
    "回顾一下：在每个迭代周期里，我们将完整遍历一次数据集（train_data）， 不停地从中获取一个小批量的输入和相应的标签。 对于每一个小批量，我们会进行以下步骤:\n",
    "\n",
    "    通过调用net(X)生成预测并计算损失l（前向传播）。\n",
    "    通过进行反向传播来计算梯度。\n",
    "    通过调用优化器来更新模型参数。\n",
    "\n",
    "为了更好的衡量训练效果，我们计算每个迭代周期后的损失，并打印它来监控训练过程。\n"
   ]
  },
  {
   "cell_type": "code",
   "execution_count": 31,
   "id": "67581161",
   "metadata": {},
   "outputs": [
    {
     "name": "stdout",
     "output_type": "stream",
     "text": [
      "epoch 1, loss 0.000104\n",
      "epoch 2, loss 0.000104\n",
      "epoch 3, loss 0.000104\n"
     ]
    }
   ],
   "source": [
    "num_epochs = 3 #迭代周期数\n",
    "for epoch in range(num_epochs):\n",
    "    for X, y in data_iter:\n",
    "        l = loss(net(X) ,y)\n",
    "        trainer.zero_grad() #梯度清零\n",
    "        l.backward()\n",
    "        trainer.step() #更新模型\n",
    "    l = loss(net(features), labels)\n",
    "    print(f'epoch {epoch + 1}, loss {l:f}')"
   ]
  },
  {
   "cell_type": "markdown",
   "id": "1b0c1b77",
   "metadata": {},
   "source": [
    "下面我们[比较生成数据集的真实参数和通过有限数据训练获得的模型参数]。 要访问参数，我们首先从net访问所需的层，然后读取该层的权重和偏置。 正如在从零开始实现中一样，我们估计得到的参数与生成数据的真实参数非常接近。"
   ]
  },
  {
   "cell_type": "code",
   "execution_count": 32,
   "id": "2b3a8509",
   "metadata": {},
   "outputs": [
    {
     "name": "stdout",
     "output_type": "stream",
     "text": [
      "w的估计误差： tensor([0.0003, 0.0003])\n",
      "b的估计误差： tensor([3.3855e-05])\n"
     ]
    }
   ],
   "source": [
    "w = net[0].weight.data\n",
    "print('w的估计误差：', true_w - w.reshape(true_w.shape))\n",
    "b = net[0].bias.data\n",
    "print('b的估计误差：', true_b - b)"
   ]
  },
  {
   "cell_type": "markdown",
   "id": "abfd40e7",
   "metadata": {},
   "source": [
    "小结\n",
    "\n",
    "    我们可以使用PyTorch的高级API更简洁地实现模型。\n",
    "    在PyTorch中，data模块提供了数据处理工具，nn模块定义了大量的神经网络层和常见损失函数。\n",
    "    我们可以通过_结尾的方法将参数替换，从而初始化参数。"
   ]
  }
 ],
 "metadata": {
  "kernelspec": {
   "display_name": "Python 3 (ipykernel)",
   "language": "python",
   "name": "python3"
  },
  "language_info": {
   "codemirror_mode": {
    "name": "ipython",
    "version": 3
   },
   "file_extension": ".py",
   "mimetype": "text/x-python",
   "name": "python",
   "nbconvert_exporter": "python",
   "pygments_lexer": "ipython3",
   "version": "3.10.9"
  }
 },
 "nbformat": 4,
 "nbformat_minor": 5
}
